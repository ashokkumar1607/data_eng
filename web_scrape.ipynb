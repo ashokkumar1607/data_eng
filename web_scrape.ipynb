{
 "cells": [
  {
   "cell_type": "code",
   "execution_count": 1,
   "id": "8fc1ab5f-7196-4853-8eaa-495f8565a476",
   "metadata": {},
   "outputs": [
    {
     "name": "stdout",
     "output_type": "stream",
     "text": [
      "10 FREE Web Scrapers That You Cannot Miss in 2023\n",
      " Here are 10 web scraping tools you should not miss for online data extraction. Based on their specific needs, people can choose among client-based data scraping tool, browser extension tools and web-based tools.\n",
      "August 20, 2023 · 8 min read\n",
      "\n",
      "10 Tips About Amazon Marketing Strategies\n",
      " If you're having trouble improving the performance of your Amazon shop, then read this article to get some tips for Amazon marketing.\n",
      "August 18, 2023 · 6 min read\n",
      "\n",
      "Legal Considerations You Should Know While Scraping Amazon\n",
      " Is it legal to scrape data from Amazon? You may have this question when you're going to collect some data. This post discusses the legacy, anti-scraping problems, and tips to avoid getting blocked.\n",
      "August 18, 2023 · 6 min read\n",
      "\n",
      "How to Scrape Amazon Data Using Python\n",
      " How to collect data like product listings, pricing, rating and reviews from Amazon? This article tells you how to use Python and its no-coding alternative web scraper to achieve it easily.\n",
      "August 18, 2023 · 4 min read\n",
      "\n",
      "Scrape Amazon Product Reviews and Ratings for Sentiment Analysis\n",
      " Data analysis can help you do better in marketing strategies. In this article, you can learn how to scrape Amazon product review database for sentiment analysis with a step-by-step guide.\n",
      "August 16, 2023 · 6 min read\n",
      "\n",
      "How to Scrape Data from Amazon without Coding Skills\n",
      " How to scrape product data from Amazon? If you have the same question, you can find the answer in 3 ways, including coding-free web scraping tools, programming crawlers, and web extensions.\n",
      "August 14, 2023 · 6 min read\n",
      "\n",
      "Best Amazon Price Scraper No Coding\n",
      " Want to track Amazon price history data for your market research and analysis but are clueless to proceed? This article will help you set an Amazon price scraper step-by-step.\n",
      "August 13, 2023 · 4 min read\n",
      "\n",
      "Top 13 Amazon Seller Tools for Newbies in 2023\n",
      " If you are looking for some tools that can help you improve your business on Amazon, then you should read this article about the best Amazon seller tools.\n",
      "August 12, 2023 · 5 min read\n",
      "\n",
      "7 Most Useful Tools to Scrape Amazon Data Easily\n",
      " If you're looking for some ways to scrape data from Amazon, then you're on the right page. This article will introduce the best 7 Amazon scrapers based on browser and desktop.\n",
      "August 10, 2023 · 7 min read\n",
      "\n",
      "10 Best Open Source Web Scrapers in 2023\n",
      " We will walk you through the top 10 open-source web scrapers in this article, including their use case, what language they used, main advantages, etc.\n",
      "August 7, 2023 · 5 min read\n",
      "\n",
      "5 Best Google Maps Crawlers in 2023\n",
      " How to scrape Google Maps data for free? We selected the 5 best Google Maps crawlers for you to extract data and improve your business.\n",
      "July 30, 2023 · 4 min read\n",
      "\n",
      "3 Best Free Online Web Crawler Tools\n",
      " Web crawling tools are designed to scrape or crawl data from websites. We can also call them web harvesting tools or data extraction tools (Actually they have many nicknames such as web crawler, web scraper, data scraping tool, spider)\n",
      "July 25, 2023 · 5 min read\n",
      "\n"
     ]
    }
   ],
   "source": [
    "from bs4 import BeautifulSoup\n",
    "import requests\n",
    "import csv\n",
    "response=requests.get('https://www.octoparse.com/blog').text\n",
    "soup=BeautifulSoup(response,'lxml')\n",
    "csv_file=open('cms_scrape.csv','w')\n",
    "csv_writer=csv.writer(csv_file)\n",
    "csv_writer.writerow(['headline','summary','date'])\n",
    "for i in soup.find_all('div',class_='posts_card__aP9rp'):\n",
    "    headline= i.h2.a.text\n",
    "    print(headline)\n",
    "\n",
    "    summary=i.find('div',class_='desc').text\n",
    "    print(summary)\n",
    "\n",
    "    date=i.find('div',class_='date').text\n",
    "    print(date)\n",
    "\n",
    "    print()\n",
    "\n",
    "    csv_writer.writerow([headline,summary,date])\n"
   ]
  }
 ],
 "metadata": {
  "kernelspec": {
   "display_name": "Python 3 (ipykernel)",
   "language": "python",
   "name": "python3"
  },
  "language_info": {
   "codemirror_mode": {
    "name": "ipython",
    "version": 3
   },
   "file_extension": ".py",
   "mimetype": "text/x-python",
   "name": "python",
   "nbconvert_exporter": "python",
   "pygments_lexer": "ipython3",
   "version": "3.11.4"
  }
 },
 "nbformat": 4,
 "nbformat_minor": 5
}
